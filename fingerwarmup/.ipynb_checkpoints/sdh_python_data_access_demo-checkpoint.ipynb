{
 "cells": [
  {
   "cell_type": "markdown",
   "metadata": {},
   "source": [
    "\n",
    "# SDH DATA ACCESS WITH PYTHON - DEMO"
   ]
  },
  {
   "cell_type": "code",
   "execution_count": null,
   "metadata": {},
   "outputs": [],
   "source": [
    "# after installing our package with: pip install sdhpy\n",
    "# ..import python interface to loading cleaned data from SDH asset\n",
    "from sdhpy.pandas import SdhPandas\n",
    "\n",
    "# give access credential to authenticate to our data store\n",
    "# the API-key is in your account page at store.smartdatahub.io\n",
    "sdh = SdhPandas(store_apikey=\"insert_your_apikey_here\")"
   ]
  },
  {
   "cell_type": "code",
   "execution_count": null,
   "metadata": {},
   "outputs": [],
   "source": [
    "# get data from the PandasDataset Object to a pandas dataframe with:\n",
    "# dataframe_name=sdh.url(\"the URL to the data you want\").data\n",
    "your_descriptive_dataframe_name=sdh.url(\"your_dataset_url_here\").data\n"
   ]
  },
  {
   "cell_type": "code",
   "execution_count": null,
   "metadata": {},
   "outputs": [],
   "source": [
    "type(your_descriptive_dataframe_name)"
   ]
  },
  {
   "cell_type": "code",
   "execution_count": null,
   "metadata": {},
   "outputs": [],
   "source": [
    "list(your_descriptive_dataframe_name)"
   ]
  },
  {
   "cell_type": "code",
   "execution_count": null,
   "metadata": {},
   "outputs": [],
   "source": [
    "your_descriptive_dataframe_name.hist(bins=7)"
   ]
  },
  {
   "cell_type": "code",
   "execution_count": null,
   "metadata": {},
   "outputs": [],
   "source": []
  }
 ],
 "metadata": {
  "kernelspec": {
   "display_name": "Python 3",
   "language": "python",
   "name": "python3"
  },
  "language_info": {
   "codemirror_mode": {
    "name": "ipython",
    "version": 3
   },
   "file_extension": ".py",
   "mimetype": "text/x-python",
   "name": "python",
   "nbconvert_exporter": "python",
   "pygments_lexer": "ipython3",
   "version": "3.6.8"
  }
 },
 "nbformat": 4,
 "nbformat_minor": 2
}
