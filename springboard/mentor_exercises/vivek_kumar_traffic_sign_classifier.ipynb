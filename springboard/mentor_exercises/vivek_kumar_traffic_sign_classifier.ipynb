{
 "cells": [
  {
   "cell_type": "markdown",
   "metadata": {},
   "source": [
    "# Traffic sign classifier neural network\n",
    "```Trunk code by Vivek Kumar, commentary and attempts to develop the LeCun et al. solution by M.L.```\n",
    "\n",
    "### Goals of this exercise\n",
    "* Reproduce LeCun & team classification results using Python ML-libraries\n",
    "* Improve if possible by trying the following\n",
    "    * Standardize luminosity and colours (LeCun et al. ended up dropping colours, which I see as a fail, human perceptual system normalizes light and colour hues, how about trying the same and retaining colour as a classifying input? It is pretty solid classifier - it seems frankly stupid to let the neural network be misguided due to seeing a yellow in the dark as different colour than yellow in the light? I think we could attempt to standardize colours so that the machine sees \"a yellow\" and \"a red\" etc. and try what kind of predictions we end up with.)\n",
    "    * ...would the above be achieved by a colour classifying SOM -layer (https://www.slideshare.net/raphaelkiminya/kohonen-self-organizing-maps)\n",
    "    * adding jitter was also suggested\n",
    "\n"
   ]
  },
  {
   "cell_type": "code",
   "execution_count": 1,
   "metadata": {},
   "outputs": [
    {
     "data": {
      "text/plain": [
       "'C:\\\\Users\\\\andro\\\\repositories\\\\dscipy_warmups\\\\springboard\\\\mentor_exercises'"
      ]
     },
     "execution_count": 1,
     "metadata": {},
     "output_type": "execute_result"
    }
   ],
   "source": [
    "import os\n",
    "os.getcwd()"
   ]
  },
  {
   "cell_type": "code",
   "execution_count": 2,
   "metadata": {},
   "outputs": [
    {
     "data": {
      "text/plain": [
       "'1.16.2'"
      ]
     },
     "execution_count": 2,
     "metadata": {},
     "output_type": "execute_result"
    }
   ],
   "source": [
    "import numpy as np\n",
    "np.version.version"
   ]
  },
  {
   "cell_type": "code",
   "execution_count": 3,
   "metadata": {},
   "outputs": [
    {
     "name": "stderr",
     "output_type": "stream",
     "text": [
      "Using TensorFlow backend.\n"
     ]
    }
   ],
   "source": [
    "import keras\n"
   ]
  },
  {
   "cell_type": "code",
   "execution_count": 4,
   "metadata": {},
   "outputs": [],
   "source": [
    "# we need this for handling serialized binary objects \n",
    "# (which the pics are apparently)\n",
    "# Check out joblib as well\n",
    "import pickle\n",
    "\n",
    "# OK, but which sets are the ones you used and on what basis did you select?\n",
    "# there was quite a plethora of different datasets on offer\n",
    "# haar, hog, gt, hue-hist? Wut?\n",
    "# Did you do pre-processing other than what is seen here, the \"multilabel binarizer\"? What does it do?\n",
    "# If yes, what exactly?\n",
    "     # 100K  GTSRB_Final_Test_GT.zip\n",
    "     # 305M  GTSRB_Final_Test_Haar.zip\n",
    "     # 279M  GTSRB_Final_Test_HOG.zip\n",
    "     # 4.6M  GTSRB_Final_Test_HueHist.zip\n",
    "     \n",
    "     # 945M  GTSRB_Final_Training_Haar.zip\n",
    "     # 864M  GTSRB_Final_Training_HOG.zip\n",
    "     #  18M  GTSRB_Final_Training_HueHist.zip\n",
    "     \n",
    "     #  85M  GTSRB_Final_Test_Images.zip\n",
    "     # 264M  GTSRB_Final_Training_Images.zip\n",
    "    # Vivek split some of the training data to the validation population\n",
    "\n",
    "# the source data from the German site does not match this one, so how did we get here?\n",
    "training_file   = 'C:\\\\Users\\\\andro\\\\repositories\\\\dscipy_warmups\\\\springboard\\\\mentor_exercises\\\\data\\\\traffic-signs-data\\\\train.p'\n",
    "validation_file = 'C:\\\\Users\\\\andro\\\\repositories\\\\dscipy_warmups\\\\springboard\\\\mentor_exercises\\\\data\\\\traffic-signs-data\\\\valid.p'\n",
    "testing_file    = 'C:\\\\Users\\\\andro\\\\repositories\\\\dscipy_warmups\\\\springboard\\\\mentor_exercises\\\\data\\\\traffic-signs-data\\\\test.p'\n",
    "\n",
    "# loading in the image populations\n",
    "# ..have you had binary file corruption on Windows with this \"read binary\" -mode\n",
    "# try without b-option first\n",
    "with open(training_file, mode='rb') as f:\n",
    "    train = pickle.load(f)\n",
    "with open(validation_file, mode='rb') as f:\n",
    "    valid = pickle.load(f)\n",
    "with open(testing_file, mode='rb') as f:\n",
    "    test = pickle.load(f)\n",
    "\n",
    "# I need to check the schema/shape of the pickle\n",
    "X_train, y_train = train['features'], train['labels']\n",
    "X_valid, y_valid = valid['features'], valid['labels']\n",
    "X_test, y_test = test['features'], test['labels']\n"
   ]
  },
  {
   "cell_type": "code",
   "execution_count": 5,
   "metadata": {},
   "outputs": [
    {
     "name": "stdout",
     "output_type": "stream",
     "text": [
      "Number of training examples = 34799\n",
      "Number of testing examples = 12630\n",
      "Image data shape = (32, 32, 3)\n",
      "Number of classes = 43\n"
     ]
    }
   ],
   "source": [
    "import numpy as np\n",
    "\n",
    "# population samples to vars with len\n",
    "n_train = len(X_train)\n",
    "n_validation = len(X_valid)\n",
    "n_test = len(X_test)\n",
    "\n",
    "image_shape = X_train.shape[1:] # all of the second column\n",
    "\n",
    "# just appending the populations\n",
    "classes = np.append(y_train, y_valid)\n",
    "classes = np.append(classes, y_test)\n",
    "n_classes = len(set(classes))\n",
    "\n",
    "print(\"Number of training examples =\", n_train)\n",
    "print(\"Number of testing examples =\", n_test)\n",
    "print(\"Image data shape =\", image_shape)\n",
    "print(\"Number of classes =\", n_classes)"
   ]
  },
  {
   "cell_type": "code",
   "execution_count": 7,
   "metadata": {},
   "outputs": [
    {
     "data": {
      "image/png": "[encoded data removed]",
      "text/plain": [
       "<Figure size 432x288 with 3 Axes>"
      ]
     },
     "metadata": {
      "needs_background": "light"
     },
     "output_type": "display_data"
    }
   ],
   "source": [
    "# Print histograms of training and testing distributions with 43 bins\n",
    "# 43 is the number of actual labels, hence the bins.\n",
    "\n",
    "import matplotlib.pyplot as plt\n",
    "\n",
    "plt.subplot(1,3,1)\n",
    "hist, bins = np.histogram(y_train, bins=43)\n",
    "width = 0.7 * (bins[1] - bins[0])\n",
    "center = (bins[:-1] + bins[1:]) / 2\n",
    "plt.bar(center, hist, align='center', width=width)\n",
    "plt.title('Training set')\n",
    "\n",
    "plt.subplot(1,3,2)\n",
    "hist, bins = np.histogram(y_valid, bins=43)\n",
    "width = 0.7 * (bins[1] - bins[0])\n",
    "center = (bins[:-1] + bins[1:]) / 2\n",
    "plt.bar(center, hist, align='center', width=width)\n",
    "plt.title('Validation set')\n",
    "\n",
    "plt.subplot(1,3,3)\n",
    "hist, bins = np.histogram(y_test, bins=43)\n",
    "width = 0.7 * (bins[1] - bins[0])\n",
    "center = (bins[:-1] + bins[1:]) / 2\n",
    "plt.bar(center, hist, align='center', width=width)\n",
    "plt.title('Testing set')\n",
    "\n",
    "plt.tight_layout()\n",
    "plt.show()"
   ]
  },
  {
   "cell_type": "code",
   "execution_count": 8,
   "metadata": {},
   "outputs": [],
   "source": [
    "# RGB channels handling here - to greyscale\n",
    "# but where is the actual image information - that is pixel greyscale values?\n",
    "# 1) (here I would be doing a split after first trying it like this)\n",
    "# 2) try it with colour as is\n",
    "# 3) try it with colour averaging, which should cancel out the lighting conditions complained about by original authors\n",
    "X_train = np.sum(X_train/3, axis=3, keepdims=True)\n",
    "X_valid = np.sum(X_valid/3, axis=3, keepdims=True)\n",
    "X_test = np.sum(X_test/3, axis=3, keepdims=True)\n",
    "\n",
    "X_train = (X_train - 128)/128\n",
    "X_valid = (X_valid - 128)/128\n",
    "X_test = (X_test - 128)/128"
   ]
  },
  {
   "cell_type": "code",
   "execution_count": 9,
   "metadata": {},
   "outputs": [],
   "source": [
    "# bunch of different CNN layer types here: convolution, max-pooling\n",
    "# Rectified linear units (relu) chosen to enhance non-linear properties of network \n",
    "# (but isn't this a layer type in itself, it is in \"activation\")\n",
    "# 2 kinds of layers - function layers, weight layers\n",
    "\n",
    "# What do strides do in NN usage?\n",
    "# input_shape 32,32,1 ...32 px * 32 px and..1?\n",
    "\n",
    "# I installed the CPU -version...what about the GPU -version?\n",
    "\n",
    "from keras.models import Model\n",
    "from keras.layers import Input\n",
    "# Flatten: a vector from a matrix: input, tensor of 3 dimensions (height width channels) - output will be vector\n",
    "# Dense: vector to vectors \n",
    "from keras.layers import Convolution2D, MaxPooling2D, Flatten, Dense, Concatenate\n",
    "\n",
    "from keras.layers.convolutional import AtrousConvolution2D\n",
    "from keras import backend as K # when doing stuff not in Keras, new layer, new callback -> allows extending Keras\n",
    "\n",
    "\n",
    "def model_traffic_sign(input_tensor=None):\n",
    "    input_shape = (32, 32, 1) # for colour images, use all channels\n",
    "\n",
    "    img_input = Input(shape=input_shape)\n",
    "    \n",
    "# how does this layering work - you just re-assign x...and then build another layer, \n",
    "# at the end of which you kinda concatenate the previous layer?\n",
    "# Which documentation part should I read here? - keras.layers -api? - Convolution2D and MaxPooling2D apis\n",
    "\n",
    "\n",
    "    # conv_1\n",
    "    x = Convolution2D(6, (5, 5), activation='relu', padding='valid', name='block1_conv1')(img_input)\n",
    "    x = MaxPooling2D((2, 2), strides=(2, 2), name='block1_pool')(x)\n",
    "\n",
    "    # conv_2\n",
    "    x = Convolution2D(16, (5, 5), activation='relu', padding='valid', name='block1_conv2')(x)\n",
    "    x = MaxPooling2D((2, 2), strides=(2, 2), name='block2_pool')(x)\n",
    "    \n",
    "    layer2 = x\n",
    "    \n",
    "    x = Convolution2D(400, (5, 5), activation='relu', padding='valid', name='block2_conv1')(x)\n",
    "    #x = MaxPooling2D((2, 2), strides=(2, 2), name='block2_pool')(x)\n",
    "    \n",
    "    x = Flatten()(x)\n",
    "    layer2_flat = Flatten()(layer2)\n",
    "    \n",
    "    x = Concatenate()([x, layer2_flat])\n",
    "    #x = Dense(120, activation=\"relu\")(x)\n",
    "    x = Dense(43, activation=\"softmax\")(x)\n",
    "\n",
    "    \n",
    "    model = Model(img_input, x)\n",
    "\n",
    "    return model"
   ]
  },
  {
   "cell_type": "code",
   "execution_count": 10,
   "metadata": {},
   "outputs": [
    {
     "name": "stdout",
     "output_type": "stream",
     "text": [
      "WARNING:tensorflow:From C:\\Users\\andro\\Anaconda3\\lib\\site-packages\\tensorflow\\python\\framework\\op_def_library.py:263: colocate_with (from tensorflow.python.framework.ops) is deprecated and will be removed in a future version.\n",
      "Instructions for updating:\n",
      "Colocations handled automatically by placer.\n",
      "__________________________________________________________________________________________________\n",
      "Layer (type)                    Output Shape         Param #     Connected to                     \n",
      "==================================================================================================\n",
      "input_1 (InputLayer)            (None, 32, 32, 1)    0                                            \n",
      "__________________________________________________________________________________________________\n",
      "block1_conv1 (Conv2D)           (None, 28, 28, 6)    156         input_1[0][0]                    \n",
      "__________________________________________________________________________________________________\n",
      "block1_pool (MaxPooling2D)      (None, 14, 14, 6)    0           block1_conv1[0][0]               \n",
      "__________________________________________________________________________________________________\n",
      "block1_conv2 (Conv2D)           (None, 10, 10, 16)   2416        block1_pool[0][0]                \n",
      "__________________________________________________________________________________________________\n",
      "block2_pool (MaxPooling2D)      (None, 5, 5, 16)     0           block1_conv2[0][0]               \n",
      "__________________________________________________________________________________________________\n",
      "block2_conv1 (Conv2D)           (None, 1, 1, 400)    160400      block2_pool[0][0]                \n",
      "__________________________________________________________________________________________________\n",
      "flatten_1 (Flatten)             (None, 400)          0           block2_conv1[0][0]               \n",
      "__________________________________________________________________________________________________\n",
      "flatten_2 (Flatten)             (None, 400)          0           block2_pool[0][0]                \n",
      "__________________________________________________________________________________________________\n",
      "concatenate_1 (Concatenate)     (None, 800)          0           flatten_1[0][0]                  \n",
      "                                                                 flatten_2[0][0]                  \n",
      "__________________________________________________________________________________________________\n",
      "dense_1 (Dense)                 (None, 43)           34443       concatenate_1[0][0]              \n",
      "==================================================================================================\n",
      "Total params: 197,415\n",
      "Trainable params: 197,415\n",
      "Non-trainable params: 0\n",
      "__________________________________________________________________________________________________\n"
     ]
    }
   ],
   "source": [
    "# stochastic gradient descent optimization algo variant\n",
    "from keras.optimizers import Adam \n",
    "\n",
    "model = model_traffic_sign()\n",
    "optim = Adam(lr = 0.0009)   # what is this magic number and where is it from? \n",
    "                            # ..lowest learning rate you can practically use less than 0.001\n",
    "model.compile(optim, loss='categorical_crossentropy')\n",
    "model.summary()"
   ]
  },
  {
   "cell_type": "code",
   "execution_count": 11,
   "metadata": {},
   "outputs": [],
   "source": [
    "# Keras utils in general has lots of nice stuff, read.\n",
    "# \n",
    "from tensorflow.keras.utils import Sequence \n",
    "class MySequence(Sequence):\n",
    "\n",
    "        def __init__(self, x_set, y_set, batch_size):\n",
    "            self.x, self.y = x_set, y_set\n",
    "            self.batch_size = batch_size\n",
    "\n",
    "        def __len__(self):\n",
    "            return math.ceil(len(self.x) / self.batch_size)\n",
    "\n",
    "        def __getitem__(self, idx):\n",
    "            batch_x = self.x[idx * self.batch_size:(idx + 1) *\n",
    "            self.batch_size]\n",
    "            batch_y = self.y[idx * self.batch_size:(idx + 1) *\n",
    "            self.batch_size]\n",
    "\n",
    "            return batch_x,  batch_y"
   ]
  },
  {
   "cell_type": "code",
   "execution_count": 12,
   "metadata": {},
   "outputs": [],
   "source": [
    "# Modifying the Raw labels to a form which can be used by our model \n",
    "from sklearn.preprocessing import MultiLabelBinarizer # again read docs but basically one-hot coding of labels\n",
    "\n",
    "classes = classes.reshape(len(classes),1)\n",
    "lbl_enc = MultiLabelBinarizer()\n",
    "lbl_enc.fit(classes)\n",
    "lbs_train = lbl_enc.transform(y_train.reshape(len(y_train), 1))\n",
    "lbs_valid = lbl_enc.transform(y_valid.reshape(len(y_valid), 1))\n",
    "lbs_test = lbl_enc.transform(y_test.reshape(len(y_test), 1))"
   ]
  },
  {
   "cell_type": "code",
   "execution_count": 14,
   "metadata": {},
   "outputs": [
    {
     "name": "stdout",
     "output_type": "stream",
     "text": [
      "loss: 0.00893784686923027\n",
      "epoch no-> 0 val_acc-> 0.9260770975056689\n",
      "loss: 0.010782591998577118\n",
      "epoch no-> 1 val_acc-> 0.9222222222222223\n",
      "loss: 0.007235602010041475\n",
      "epoch no-> 2 val_acc-> 0.9210884353741496\n",
      "loss: 0.007475446909666061\n",
      "epoch no-> 3 val_acc-> 0.9238095238095239\n",
      "loss: 0.008697006851434708\n",
      "epoch no-> 4 val_acc-> 0.9006802721088435\n",
      "loss: 0.021122440695762634\n",
      "epoch no-> 5 val_acc-> 0.9240362811791383\n",
      "loss: 0.008197229355573654\n",
      "epoch no-> 6 val_acc-> 0.9294784580498866\n",
      "loss: 0.014335260726511478\n",
      "epoch no-> 7 val_acc-> 0.9365079365079365\n",
      "loss: 0.06757121533155441\n",
      "epoch no-> 8 val_acc-> 0.9340136054421768\n",
      "loss: 0.0011150178033858538\n",
      "epoch no-> 9 val_acc-> 0.9328798185941043\n",
      "loss: 0.004076881799846888\n",
      "epoch no-> 10 val_acc-> 0.9356009070294785\n",
      "loss: 0.0035826596431434155\n",
      "epoch no-> 11 val_acc-> 0.9317460317460318\n",
      "loss: 0.010618667118251324\n",
      "epoch no-> 12 val_acc-> 0.9303854875283447\n",
      "loss: 0.004813934676349163\n",
      "epoch no-> 13 val_acc-> 0.9111111111111111\n",
      "loss: 0.009564138017594814\n",
      "epoch no-> 14 val_acc-> 0.9276643990929705\n",
      "loss: 0.008582078851759434\n",
      "epoch no-> 15 val_acc-> 0.9301587301587302\n",
      "loss: 0.004598342813551426\n",
      "epoch no-> 16 val_acc-> 0.9346938775510204\n",
      "loss: 0.00037269771564751863\n",
      "epoch no-> 17 val_acc-> 0.935374149659864\n",
      "loss: 0.0009289792506024241\n",
      "epoch no-> 18 val_acc-> 0.9392290249433106\n",
      "loss: 0.0636662095785141\n",
      "epoch no-> 19 val_acc-> 0.9340136054421768\n"
     ]
    }
   ],
   "source": [
    "from sklearn.utils import shuffle # randomizing of training data\n",
    "\n",
    "n_epoches = 20\n",
    "batch_size = 256\n",
    "n_steps = int(n_train / batch_size)\n",
    "\n",
    "for i in range(n_epoches):\n",
    "    X_train, lbs_train = shuffle(X_train, lbs_train)\n",
    "    data_gen = MySequence(X_train, lbs_train, batch_size=batch_size)\n",
    "\n",
    "    for j in range(n_steps):\n",
    "        x, y = data_gen[j]\n",
    "        loss = model.train_on_batch(x, y)\n",
    "        \n",
    "    val_pred = model.predict(X_valid)\n",
    "    pred = np.argmax(val_pred, 1)\n",
    "    true = np.where(lbs_valid == 1)[1]\n",
    "    correct = sum(np.equal(true, pred))\n",
    "    val_acc = correct/len(X_valid)\n",
    "    print(\"loss: {}\".format(loss))\n",
    "    print(\"epoch no-> {} val_acc-> {}\".format(i, val_acc))\n",
    "        "
   ]
  },
  {
   "cell_type": "code",
   "execution_count": 18,
   "metadata": {},
   "outputs": [],
   "source": [
    "test_pred = model.predict(X_test)\n",
    "pred = np.argmax(test_pred, 1)\n",
    "true = np.where(lbs_test == 1)[1]\n",
    "correct = sum(np.equal(true, pred))\n",
    "test_acc = correct/len(X_test)"
   ]
  },
  {
   "cell_type": "code",
   "execution_count": 19,
   "metadata": {},
   "outputs": [],
   "source": [
    "train_pred = model.predict(X_train)\n",
    "pred = np.argmax(train_pred, 1)\n",
    "true = np.where(lbs_train == 1)[1]\n",
    "correct = sum(np.equal(true, pred))\n",
    "train_acc = correct/len(X_train)"
   ]
  },
  {
   "cell_type": "markdown",
   "metadata": {},
   "source": [
    "### ...and how do I see the model quality? Can't run a \"model.summar()\" against a numpy array"
   ]
  },
  {
   "cell_type": "code",
   "execution_count": null,
   "metadata": {},
   "outputs": [],
   "source": [
    "# add precision recall too - scikit learn for that"
   ]
  }
 ],
 "metadata": {
  "kernelspec": {
   "display_name": "Python 3",
   "language": "python",
   "name": "python3"
  },
  "language_info": {
   "codemirror_mode": {
    "name": "ipython",
    "version": 3
   },
   "file_extension": ".py",
   "mimetype": "text/x-python",
   "name": "python",
   "nbconvert_exporter": "python",
   "pygments_lexer": "ipython3",
   "version": "3.6.8"
  }
 },
 "nbformat": 4,
 "nbformat_minor": 2
}
