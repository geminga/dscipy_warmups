{
 "cells": [
  {
   "cell_type": "code",
   "execution_count": null,
   "metadata": {
    "collapsed": true
   },
   "outputs": [],
   "source": [
    "import pickle\n",
    "\n",
    "training_file = \"/Users/Masters/Downloads/traffic-signs-data/train.p\"\n",
    "validation_file= \"/Users/Masters/Downloads/traffic-signs-data/valid.p\"\n",
    "testing_file = \"/Users/Masters/Downloads/traffic-signs-data/test.p\"\n",
    "\n",
    "with open(training_file, mode='rb') as f:\n",
    "    train = pickle.load(f)\n",
    "with open(validation_file, mode='rb') as f:\n",
    "    valid = pickle.load(f)\n",
    "with open(testing_file, mode='rb') as f:\n",
    "    test = pickle.load(f)\n",
    "    \n",
    "X_train, y_train = train['features'], train['labels']\n",
    "X_valid, y_valid = valid['features'], valid['labels']\n",
    "X_test, y_test = test['features'], test['labels']\n"
   ]
  },
  {
   "cell_type": "code",
   "execution_count": null,
   "metadata": {
    "collapsed": true
   },
   "outputs": [],
   "source": [
    "import numpy as np\n",
    "\n",
    "n_train = len(X_train)\n",
    "n_validation = len(X_valid)\n",
    "n_test = len(X_test)\n",
    "\n",
    "image_shape = X_train.shape[1:]\n",
    "\n",
    "classes = np.append(y_train, y_valid)\n",
    "classes = np.append(classes, y_test)\n",
    "n_classes = len(set(classes))\n",
    "\n",
    "print(\"Number of training examples =\", n_train)\n",
    "print(\"Number of testing examples =\", n_test)\n",
    "print(\"Image data shape =\", image_shape)\n",
    "print(\"Number of classes =\", n_classes)"
   ]
  },
  {
   "cell_type": "code",
   "execution_count": null,
   "metadata": {
    "collapsed": true
   },
   "outputs": [],
   "source": [
    "hist, bins = np.histogram(y_train, bins=43)\n",
    "width = 0.7 * (bins[1] - bins[0])\n",
    "center = (bins[:-1] + bins[1:]) / 2\n",
    "plt.bar(center, hist, align='center', width=width)\n",
    "plt.show()"
   ]
  },
  {
   "cell_type": "code",
   "execution_count": null,
   "metadata": {
    "collapsed": true
   },
   "outputs": [],
   "source": [
    "X_train = np.sum(X_train/3, axis=3, keepdims=True)\n",
    "X_valid = np.sum(X_valid/3, axis=3, keepdims=True)\n",
    "X_test = np.sum(X_test/3, axis=3, keepdims=True)\n",
    "\n",
    "X_train = (X_train - 128)/128\n",
    "X_valid = (X_valid - 128)/128\n",
    "X_test = (X_test - 128)/128"
   ]
  },
  {
   "cell_type": "code",
   "execution_count": null,
   "metadata": {
    "collapsed": true
   },
   "outputs": [],
   "source": [
    "from keras.models import Model\n",
    "from keras.layers import Input\n",
    "from keras.layers import Convolution2D, MaxPooling2D, Flatten, Dense, Concatenate\n",
    "from keras.layers.convolutional import AtrousConvolution2D\n",
    "from keras import backend as K\n",
    "\n",
    "\n",
    "def model_traffic_sign(input_tensor=None):\n",
    "    input_shape = (32, 32, 1)\n",
    "\n",
    "    img_input = Input(shape=input_shape)\n",
    "    \n",
    "\n",
    "    # conv_1\n",
    "    x = Convolution2D(6, (5, 5), activation='relu', padding='valid', name='block1_conv1')(img_input)\n",
    "    x = MaxPooling2D((2, 2), strides=(2, 2), name='block1_pool')(x)\n",
    "\n",
    "    # conv_2\n",
    "    x = Convolution2D(16, (5, 5), activation='relu', padding='valid', name='block1_conv2')(x)\n",
    "    x = MaxPooling2D((2, 2), strides=(2, 2), name='block2_pool')(x)\n",
    "    \n",
    "    layer2 = x\n",
    "    \n",
    "    x = Convolution2D(400, (5, 5), activation='relu', padding='valid', name='block2_conv1')(x)\n",
    "    #x = MaxPooling2D((2, 2), strides=(2, 2), name='block2_pool')(x)\n",
    "    \n",
    "    x = Flatten()(x)\n",
    "    layer2_flat = Flatten()(layer2)\n",
    "    \n",
    "    x = Concatenate()([x, layer2_flat])\n",
    "    #x = Dense(120, activation=\"relu\")(x)\n",
    "    x = Dense(43, activation=\"softmax\")(x)\n",
    "\n",
    "    \n",
    "    model = Model(img_input, x)\n",
    "\n",
    "    return model"
   ]
  },
  {
   "cell_type": "code",
   "execution_count": null,
   "metadata": {
    "collapsed": true
   },
   "outputs": [],
   "source": [
    "from keras.optimizers import Adam\n",
    "\n",
    "model = model_traffic_sign()\n",
    "optim = Adam(lr = 0.0009)\n",
    "model.compile(optim, loss='categorical_crossentropy')\n",
    "model.summary()"
   ]
  },
  {
   "cell_type": "code",
   "execution_count": null,
   "metadata": {
    "collapsed": true
   },
   "outputs": [],
   "source": [
    "from tensorflow.keras.utils import Sequence\n",
    "class MySequence(Sequence):\n",
    "\n",
    "        def __init__(self, x_set, y_set, batch_size):\n",
    "            self.x, self.y = x_set, y_set\n",
    "            self.batch_size = batch_size\n",
    "\n",
    "        def __len__(self):\n",
    "            return math.ceil(len(self.x) / self.batch_size)\n",
    "\n",
    "        def __getitem__(self, idx):\n",
    "            batch_x = self.x[idx * self.batch_size:(idx + 1) *\n",
    "            self.batch_size]\n",
    "            batch_y = self.y[idx * self.batch_size:(idx + 1) *\n",
    "            self.batch_size]\n",
    "\n",
    "            return batch_x,  batch_y"
   ]
  },
  {
   "cell_type": "code",
   "execution_count": null,
   "metadata": {
    "collapsed": true
   },
   "outputs": [],
   "source": [
    "from sklearn.preprocessing import MultiLabelBinarizer\n",
    "\n",
    "classes = classes.reshape(len(classes),1)\n",
    "lbl_enc = MultiLabelBinarizer()\n",
    "lbl_enc.fit(classes)\n",
    "lbs_train = lbl_enc.transform(y_train.reshape(len(y_train), 1))\n",
    "lbs_valid = lbl_enc.transform(y_valid.reshape(len(y_valid), 1))\n",
    "lbs_test = lbl_enc.transform(y_test.reshape(len(y_test), 1))"
   ]
  },
  {
   "cell_type": "code",
   "execution_count": null,
   "metadata": {
    "collapsed": true
   },
   "outputs": [],
   "source": [
    "from sklearn.utils import shuffle\n",
    "\n",
    "\n",
    "n_epoches = 60\n",
    "batch_size = 256\n",
    "n_steps = int(n_train / batch_size)\n",
    "\n",
    "for i in range(n_epoches):\n",
    "    X_train, lbs_train = shuffle(X_train, lbs_train)\n",
    "    data_gen = MySequence(X_train, lbs_train, batch_size=batch_size)\n",
    "\n",
    "    for j in range(n_steps):\n",
    "        x, y = data_gen[j]\n",
    "        loss = model.train_on_batch(x, y)\n",
    "        \n",
    "    val_pred = model.predict(X_valid)\n",
    "    pred = np.argmax(val_pred, 1)\n",
    "    true = np.where(lbs_valid == 1)[1]\n",
    "    correct = sum(np.equal(true, pred))\n",
    "    val_acc = correct/len(X_valid)\n",
    "    print(\"loss: {}\".format(loss))\n",
    "    print(\"epoch no-> {} val_acc-> {}\".format(i, val_acc))\n",
    "        "
   ]
  },
  {
   "cell_type": "code",
   "execution_count": null,
   "metadata": {
    "collapsed": true
   },
   "outputs": [],
   "source": [
    "test_pred = model.predict(X_test)\n",
    "pred = np.argmax(test_pred, 1)\n",
    "true = np.where(lbs_test == 1)[1]\n",
    "correct = sum(np.equal(true, pred))\n",
    "test_acc = correct/len(X_test)"
   ]
  },
  {
   "cell_type": "code",
   "execution_count": null,
   "metadata": {
    "collapsed": true
   },
   "outputs": [],
   "source": [
    "train_pred = model.predict(X_train)\n",
    "pred = np.argmax(train_pred, 1)\n",
    "true = np.where(lbs_train == 1)[1]\n",
    "correct = sum(np.equal(true, pred))\n",
    "train_acc = correct/len(X_train)"
   ]
  }
 ],
 "metadata": {
  "kernelspec": {
   "display_name": "Python 3",
   "language": "python",
   "name": "python3"
  },
  "language_info": {
   "codemirror_mode": {
    "name": "ipython",
    "version": 3
   },
   "file_extension": ".py",
   "mimetype": "text/x-python",
   "name": "python",
   "nbconvert_exporter": "python",
   "pygments_lexer": "ipython3",
   "version": "3.6.1"
  }
 },
 "nbformat": 4,
 "nbformat_minor": 2
}
